{
  "nbformat": 4,
  "nbformat_minor": 0,
  "metadata": {
    "colab": {
      "provenance": [],
      "toc_visible": true
    },
    "kernelspec": {
      "name": "python3",
      "display_name": "Python 3"
    },
    "language_info": {
      "name": "python"
    }
  },
  "cells": [
    {
      "cell_type": "markdown",
      "source": [
        "# Import Libraries"
      ],
      "metadata": {
        "id": "GKqzkxZ462Sq"
      }
    },
    {
      "cell_type": "code",
      "execution_count": null,
      "metadata": {
        "id": "D6IwHJAg6ua1"
      },
      "outputs": [],
      "source": [
        "import numpy as np\n",
        "from skimage import io, color, exposure, img_as_float\n",
        "import matplotlib.pyplot as plt"
      ]
    },
    {
      "cell_type": "markdown",
      "source": [
        "# Task 1"
      ],
      "metadata": {
        "id": "AB-sx1QS69qw"
      }
    },
    {
      "cell_type": "code",
      "source": [
        "# Load the \"land.jpeg\" image\n",
        "I = io.imread(\"land.jpeg\")\n",
        "\n",
        "# Normalize the image using img_to_float\n",
        "I =\n",
        "\n",
        "# Calculate the histogram\n",
        "hist, bins =\n",
        "\n",
        "# Calculate the cumulative histogram\n",
        "chist, cbins =\n",
        "\n",
        "# In a 1 by 3 subplots (plt.subplots(1, 3, ...)), show:\n",
        "# 1. The image (note that the image is grayscale)\n",
        "# 2. Histogram\n",
        "# 3. Cumulative histogram\n",
        "\n",
        "plt.rcParams['figure.figsize'] = (8, 10)\n",
        "plt.subplot(1, 3, 1)\n",
        "io.imshow(I)\n",
        "plt.axis(\"off\")\n",
        "plt.title(\"image\")\n",
        "\n",
        "plt.subplot(1, 3, 2)\n",
        "plt.plot(bins, hist, 'k')\n",
        "plt.xlabel(\"pixel values\")\n",
        "plt.title(\"histogram\")\n",
        "plt.subplot(1, 3, 3)\n",
        "\n",
        "plt.plot(cbins,chist, 'r', lw=3)\n",
        "plt.ylabel(\"percentage\")\n",
        "plt.title(\"cumulative histogram\")"
      ],
      "metadata": {
        "id": "2BC7GMlt6_12"
      },
      "execution_count": null,
      "outputs": []
    },
    {
      "cell_type": "markdown",
      "source": [
        "# Task 2"
      ],
      "metadata": {
        "id": "IAQ5omoe7lB1"
      }
    },
    {
      "cell_type": "code",
      "source": [
        "# Perform global histogram equalization on the image\n",
        "I_histeq =\n",
        "hist_I_histeq, bins_I_histeq =\n",
        "# Perform adaptive histogram equalization (AHE) with kernel size = (41, 41)\n",
        "I_ahe =\n",
        "hist_I_ahe, bins_I_ahe =\n",
        "# Perform CLAHE with kernel size = (41, 41) and clip limit = 0.05\n",
        "I_clahe =\n",
        "hist_I_clahe, bins_I_clahe ="
      ],
      "metadata": {
        "id": "5MbHaqRn7PVH"
      },
      "execution_count": null,
      "outputs": []
    },
    {
      "cell_type": "code",
      "source": [
        "# In a 2 by 4 subplots (plt.subplots(1, 3, ...)), show the followings:\n",
        "#    I           I_histeq           I_ahe          I_clahe\n",
        "# hist(I)     hist(I_histeq)     hist(I_ahe)    hist(I_clahe)\n",
        "\n",
        "plt.rcParams['figure.figsize'] = (18,6)\n",
        "plt.subplot(2, 4, 1)\n",
        "io.imshow(I)\n",
        "plt.axis(\"off\")\n",
        "plt.title(\"I\")\n",
        "\n",
        "plt.subplot(2, 4, 2)\n",
        "io.imshow(I_histeq )\n",
        "plt.axis(\"off\")\n",
        "plt.title(\"I_histeq\")\n",
        "\n",
        "plt.subplot(2, 4, 3)\n",
        "io.imshow(I_ahe )\n",
        "plt.axis(\"off\")\n",
        "plt.title(\"I_ahe\")\n",
        "\n",
        "plt.subplot(2, 4, 4)\n",
        "io.imshow(I_clahe)\n",
        "plt.axis(\"off\")\n",
        "plt.title(\"I_clahe\")\n",
        "\n",
        "plt.subplot(2, 4, 5)\n",
        "plt.plot(bins, hist, 'k')\n",
        "plt.xlabel(\"pixel values\")\n",
        "plt.title(\"hist(I)\")\n",
        "\n",
        "plt.subplot(2, 4,6)\n",
        "plt.plot(bins_I_histeq,hist_I_histeq , 'k')\n",
        "plt.xlabel(\"pixel values\")\n",
        "plt.title(\"hist(I_histeq) \")\n",
        "\n",
        "plt.subplot(2, 4, 7)\n",
        "plt.plot(bins_I_ahe ,hist_I_ahe, 'k')\n",
        "plt.xlabel(\"pixel values\")\n",
        "plt.title(\"hist(I_ahe) \")\n",
        "\n",
        "plt.subplot(2, 4, 8)\n",
        "plt.plot(bins_I_clahe,hist_I_clahe, 'k')\n",
        "plt.xlabel(\"pixel values\")\n",
        "plt.title(\"hist(I_clahe)\")"
      ],
      "metadata": {
        "id": "JmgTnpAR8aZc"
      },
      "execution_count": null,
      "outputs": []
    },
    {
      "cell_type": "code",
      "source": [],
      "metadata": {
        "id": "rP5GSy-pDZaJ"
      },
      "execution_count": null,
      "outputs": []
    }
  ]
}