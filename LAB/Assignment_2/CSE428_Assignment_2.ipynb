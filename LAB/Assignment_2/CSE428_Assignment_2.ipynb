{
  "nbformat": 4,
  "nbformat_minor": 0,
  "metadata": {
    "colab": {
      "provenance": []
    },
    "kernelspec": {
      "name": "python3",
      "display_name": "Python 3"
    },
    "language_info": {
      "name": "python"
    }
  },
  "cells": [
    {
      "cell_type": "markdown",
      "metadata": {
        "id": "04uOZEgNPw2B"
      },
      "source": [
        "# CSE428 Assignment 2\n"
      ]
    },
    {
      "cell_type": "code",
      "metadata": {
        "id": "0OAHzfhCU987"
      },
      "source": [
        "NAME = \"\"\n",
        "ID = \"\"\n",
        "COLLABORATORS_ID = \"\""
      ],
      "execution_count": null,
      "outputs": []
    },
    {
      "cell_type": "markdown",
      "metadata": {
        "id": "WJgO5zXx1h_U"
      },
      "source": [
        "This assignment contains 4 tasks. Complete the notebook with proper codes for the lines with `# TO-BE-COMPLETED` tag, or by *uncommenting* a partially written codes where necessary."
      ]
    },
    {
      "cell_type": "markdown",
      "metadata": {
        "id": "A5BjG_sdP2EF"
      },
      "source": [
        "Background: We larned in class that linear spatial filtering is basically a signal correlation opration between an image and a filter kernel. To filter an ```image``` with a ```kernel``` all we need to do is call the ```signal.correlate``` function from the ```scipy``` library.\n",
        "\n",
        "```\n",
        "filtered_image = signal.correlate(image, kernel, mode='same', method='auto')\n",
        "```\n",
        "Here, ```mode=\"same\"``` takes care of the image padding under the hood; making the filtered image the *same shape* as the input image, while ```mode=\"valid\"``` *shrinks the filtered image*. The ```method='direct'``` implements the correlation from the definition of signal correlation:\n",
        "\n",
        "> $g(x, y)=\\sum_{s,t}{w(s, t)}f(x+s, y+t)$\n",
        "\n",
        "whereas ```method='fft'``` uses a frequency domain implementation which we will learn next week. The ```method='auto'``` chooses the faster implementation automatically. <br>\n",
        "(Except for **Task 1**, always use ```method='auto'``` while using the correlation function )\n",
        "\n",
        "\n"
      ]
    },
    {
      "cell_type": "markdown",
      "metadata": {
        "id": "wVEs7rgZVxlX"
      },
      "source": [
        "We use the following code stucture to measure the excecution time of some python code:\n",
        "\n",
        "```\n",
        "import time\n",
        "\n",
        "start_time = time.clock()\n",
        "\n",
        "# some python code\n",
        "\n",
        "print(\"Time elapsed: \", time.clock() - start_time, \"seconds\")\n",
        "```\n"
      ]
    },
    {
      "cell_type": "markdown",
      "metadata": {
        "id": "zWuCWZHnz1kM"
      },
      "source": [
        "## **Task 0: The Imports** <br>\n",
        "### Import the necessary libraries and define the helper functions. You can use the helper functions from the coding tutorials, or you can even use your own version of helper functions. <br>\n"
      ]
    },
    {
      "cell_type": "code",
      "metadata": {
        "id": "GGEmEl2v0MKY"
      },
      "source": [
        "# Import libraries\n",
        "\n",
        " # TO-BE-COMPLETED\n",
        " # TO-BE-COMPLETED\n",
        " # TO-BE-COMPLETED ....\n"
      ],
      "execution_count": null,
      "outputs": []
    },
    {
      "cell_type": "code",
      "metadata": {
        "id": "iP0Qmgj30Rsy"
      },
      "source": [
        "# Define helper functions\n",
        "\n",
        " # TO-BE-COMPLETED\n",
        " # TO-BE-COMPLETED\n",
        " # TO-BE-COMPLETED ....\n"
      ],
      "execution_count": null,
      "outputs": []
    },
    {
      "cell_type": "markdown",
      "metadata": {
        "id": "pjOfpvmGWWUq"
      },
      "source": [
        "## **Task 1: Execution Time** <br>\n",
        "### Excecution time comparison for the 2 different methods of the correlation function <br>\n"
      ]
    },
    {
      "cell_type": "code",
      "metadata": {
        "id": "eSkXwtWiPu4K",
        "collapsed": true
      },
      "source": [
        "# Import an image taken by you, make sure it's dimensions does not exceed (512, 512). Downsample if necessary.\n",
        "\n",
        "image = None # TO-BE-COMPLETED"
      ],
      "execution_count": null,
      "outputs": []
    },
    {
      "cell_type": "code",
      "metadata": {
        "id": "d1RkHt25YFTn"
      },
      "source": [
        "# Define a gaussian kernel of size (35, 35)\n",
        "\n",
        "kernel = None # TO-BE-COMPLETED"
      ],
      "execution_count": null,
      "outputs": []
    },
    {
      "cell_type": "code",
      "metadata": {
        "id": "CCTQ0gcfYQ5m"
      },
      "source": [
        "# Determine the time to filter the image with the kernel using \"direct\" method\n",
        "\n",
        "filetred_image_direct = None # TO-BE-COMPLETED\n"
      ],
      "execution_count": null,
      "outputs": []
    },
    {
      "cell_type": "code",
      "metadata": {
        "id": "IYXWdgJWYfi3"
      },
      "source": [
        "# Determine the time to filter the image with the kernel using \"fft\" method\n",
        "\n",
        "filetred_image_fft = None # TO-BE-COMPLETED\n"
      ],
      "execution_count": null,
      "outputs": []
    },
    {
      "cell_type": "markdown",
      "metadata": {
        "id": "LLOdAvPNY81O"
      },
      "source": [
        "### **Answer to Task 1** <br>"
      ]
    },
    {
      "cell_type": "markdown",
      "metadata": {
        "id": "pyFmhf1wUwjJ"
      },
      "source": [
        "### Write your answer here. Comment on the results."
      ]
    },
    {
      "cell_type": "markdown",
      "source": [
        "Result (answer):\n",
        "\n",
        "Comment (answer):"
      ],
      "metadata": {
        "id": "wB8YBAUniGdo"
      }
    },
    {
      "cell_type": "markdown",
      "metadata": {
        "id": "oU1lvcu-Z7ey"
      },
      "source": [
        "(From here onwards, please use ```method=\"auto\"``` while using any signal function.)"
      ]
    },
    {
      "cell_type": "markdown",
      "metadata": {
        "id": "8yir7SZ5ZYy0"
      },
      "source": [
        "## **Task 2: Correlation Vs. Convolution** <br>\n",
        "### Comparing the correlation and convolution operation for different kernels<br>\n"
      ]
    },
    {
      "cell_type": "code",
      "metadata": {
        "id": "lBcQVxK5Z04j"
      },
      "source": [
        "# Import an image taken by you, make sure it's dimensions does not exceed (512, 512). Downsample if necessary.\n",
        "\n",
        "image = None # TO-BE-COMPLETED"
      ],
      "execution_count": null,
      "outputs": []
    },
    {
      "cell_type": "code",
      "metadata": {
        "id": "DOqe1fGvZ3-l"
      },
      "source": [
        "# Define any symmetric kernel of size (105, 105)\n",
        "\n",
        "kernel_symmetric = None # TO-BE-COMPLETED"
      ],
      "execution_count": null,
      "outputs": []
    },
    {
      "cell_type": "code",
      "metadata": {
        "id": "0jwTSR4GaxPv"
      },
      "source": [
        "# Define any asymmetric kernel of size (105, 105)\n",
        "\n",
        "kernel_asymmetric = None # TO-BE-COMPLETED"
      ],
      "execution_count": null,
      "outputs": []
    },
    {
      "cell_type": "code",
      "metadata": {
        "id": "syOE2on5a1ER"
      },
      "source": [
        "# Filter the image with the symmetric kernel using the correlation function\n",
        "\n",
        "filtered_image_symmetric = None # TO-BE-COMPLETED\n",
        "filtered_image_asymmetric = None # TO-BE-COMPLETED"
      ],
      "execution_count": null,
      "outputs": []
    },
    {
      "cell_type": "code",
      "metadata": {
        "id": "xATnlKlqWggo"
      },
      "source": [
        "# Display the images side by side (with proper labeling, which is which)\n"
      ],
      "execution_count": null,
      "outputs": []
    },
    {
      "cell_type": "markdown",
      "metadata": {
        "id": "ib_HmrhkcYc5"
      },
      "source": [
        "### **Answer to Task 2.1** <br>"
      ]
    },
    {
      "cell_type": "markdown",
      "metadata": {
        "id": "hJV62DwRcMVX"
      },
      "source": [
        "### Write your answer here. Compare the outputs.\n",
        "\n",
        "Answer:"
      ]
    },
    {
      "cell_type": "markdown",
      "metadata": {
        "id": "KvNJyUIwbmQt"
      },
      "source": [
        "Now, to *convolve* an ```image``` with a ```kernel``` all we need to do is call the ```signal.convolve``` function from the ```scipy``` library.\n",
        "\n",
        "```\n",
        "filtered_image = signal.convolve(image, kernel, mode='same', method='auto')```\n",
        "\n",
        "The parameters work the same way as the ```signal.correlate```function."
      ]
    },
    {
      "cell_type": "code",
      "metadata": {
        "id": "fCx4ccvobZL3"
      },
      "source": [
        "# Filter the image with the asymmetric kernel using the convolution function\n",
        "\n",
        "filtered_image_symmetric = None # TO-BE-COMPLETED\n",
        "filtered_image_asymmetric = None # TO-BE-COMPLETED\n"
      ],
      "execution_count": null,
      "outputs": []
    },
    {
      "cell_type": "markdown",
      "metadata": {
        "id": "aTrKKDcscbrz"
      },
      "source": [
        "### **Answer to Task 2.2** <br>"
      ]
    },
    {
      "cell_type": "markdown",
      "metadata": {
        "id": "bbuRa-b4cUa6"
      },
      "source": [
        "### Write your answer here. Compare the outputs.\n",
        "Answer:"
      ]
    },
    {
      "cell_type": "markdown",
      "metadata": {
        "id": "0RI8Q3Xocnwl"
      },
      "source": [
        "## **Task 3: Edge Pair Detector** <br>\n",
        "### Try to come up with two 3 x 3 filter kernels which are able to detect ***only the parallel pair of edges*** in the following image<br>"
      ]
    },
    {
      "cell_type": "markdown",
      "metadata": {
        "id": "EOckG_4bm9oz"
      },
      "source": [
        "![](https://drive.google.com/uc?export=view&id=1a1CXbuC8A2FbyFvZovJMXERUijpatecU)\n",
        "\n",
        "[The image can be downloaded from here: https://drive.google.com/file/d/1wyKGHLMEjVhbDUfyiB_zcIKP44q2Cd5G/view?usp=drive_link]"
      ]
    },
    {
      "cell_type": "markdown",
      "metadata": {
        "id": "kz3D8qtAoKHV"
      },
      "source": [
        "*Hint: No mathematical derivation is necessary. Just try devising the kernels using the same intuitions used behind the horizontal and vertical edge detector kernels. Coming up with a filter kernel means to determine the 9 filter coefficients of the 3x3 filer kernel.*"
      ]
    },
    {
      "cell_type": "code",
      "metadata": {
        "id": "el4AjD2XrKFo"
      },
      "source": [
        "# Download the image from the drive link above and upload it to your current working directory in colab. Then load the image\n",
        "\n",
        "image = None # TO-BE-COMPLETED"
      ],
      "execution_count": null,
      "outputs": []
    },
    {
      "cell_type": "code",
      "metadata": {
        "id": "Mh8KTAGUpGvr"
      },
      "source": [
        "# define the 2 custom kernels by replacing the \"?\"s with your values and uncomment the next few lines of code in this cell\n",
        "\n",
        "# kernel_1 = np.array([[?, ?, ?], # TO-BE-COMPLETED\n",
        "#                      [?, ?, ?], # TO-BE-COMPLETED\n",
        "#                      [?, ?, ?]]) # TO-BE-COMPLETED\n",
        "\n",
        "# kernel_2 = np.array([[?, ?, ?], # TO-BE-COMPLETED\n",
        "#                      [?, ?, ?], # TO-BE-COMPLETED\n",
        "#                      [?, ?, ?]]) # TO-BE-COMPLETED"
      ],
      "execution_count": null,
      "outputs": []
    },
    {
      "cell_type": "code",
      "metadata": {
        "id": "yZZLJprsma98"
      },
      "source": [
        "# detect the 2 parallel pair of edges and plot them side by side in a 1x2 grid subplot\n",
        "\n",
        "# detect the first pair using image filtering with kernel_1\n",
        "\n",
        "first_pair_detected = None # TO-BE-COMPLETED\n",
        "\n",
        "# detect the second pair using image filtering with kernel_2\n",
        "\n",
        "second_pair_detected = None # TO-BE-COMPLETED\n",
        "\n",
        "# plot the two filtered images side by side\n",
        "\n",
        "# TO-BE-COMPLETED\n",
        "# TO-BE-COMPLETED\n",
        "# TO-BE-COMPLETED\n",
        "# TO-BE-COMPLETED\n",
        "# TO-BE-COMPLETED\n",
        "# TO-BE-COMPLETED\n",
        "# TO-BE-COMPLETED\n"
      ],
      "execution_count": null,
      "outputs": []
    },
    {
      "cell_type": "markdown",
      "metadata": {
        "id": "r99Rgp2-sQbB"
      },
      "source": [
        "### **Answer to Task 3** <br>"
      ]
    },
    {
      "cell_type": "markdown",
      "metadata": {
        "id": "N3P0P6uBsQbC"
      },
      "source": [
        "### Write your answer here. Which filters you came up with and why? How did you choose the coefficients? Are your kernels unique or there can be other kernels which can accomplish the same task?\n"
      ]
    },
    {
      "cell_type": "markdown",
      "source": [
        "Answer:"
      ],
      "metadata": {
        "id": "DhUzPVJ1_gDR"
      }
    },
    {
      "cell_type": "markdown",
      "metadata": {
        "id": "ZSTwSfglzcdc"
      },
      "source": [
        "## **The END**"
      ]
    }
  ]
}