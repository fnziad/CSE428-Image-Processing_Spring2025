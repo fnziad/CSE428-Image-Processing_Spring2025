{
 "cells": [
  {
   "cell_type": "code",
   "execution_count": null,
   "metadata": {
    "executionInfo": {
     "elapsed": 7,
     "status": "ok",
     "timestamp": 1746385927257,
     "user": {
      "displayName": "A B M Muntasir Rahman",
      "userId": "17712678134985094362"
     },
     "user_tz": -360
    },
    "id": "l1Rvc1DcAhO-"
   },
   "outputs": [],
   "source": [
    "import tensorflow as tf\n",
    "import matplotlib.pyplot as plt\n",
    "import numpy as np"
   ]
  },
  {
   "cell_type": "code",
   "execution_count": 17,
   "metadata": {
    "executionInfo": {
     "elapsed": 272,
     "status": "ok",
     "timestamp": 1746385928380,
     "user": {
      "displayName": "A B M Muntasir Rahman",
      "userId": "17712678134985094362"
     },
     "user_tz": -360
    },
    "id": "DbS0WLvTAsK1"
   },
   "outputs": [],
   "source": [
    "(x_train, y_train),(x_test, y_test) = tf.keras.datasets.mnist.load_data()"
   ]
  },
  {
   "cell_type": "code",
   "execution_count": 18,
   "metadata": {
    "colab": {
     "base_uri": "https://localhost:8080/"
    },
    "executionInfo": {
     "elapsed": 3,
     "status": "ok",
     "timestamp": 1746385928941,
     "user": {
      "displayName": "A B M Muntasir Rahman",
      "userId": "17712678134985094362"
     },
     "user_tz": -360
    },
    "id": "OZ8EXSLLAuKC",
    "outputId": "14f904e7-9fd6-4fa8-fbfa-0cc8ed7621b6"
   },
   "outputs": [
    {
     "name": "stdout",
     "output_type": "stream",
     "text": [
      "(60000, 28, 28)\n",
      "(60000,)\n",
      "(10000, 28, 28)\n",
      "(10000,)\n"
     ]
    }
   ],
   "source": [
    "print(x_train.shape)\n",
    "print(y_train.shape)\n",
    "print(x_test.shape)\n",
    "print(y_test.shape)"
   ]
  },
  {
   "cell_type": "code",
   "execution_count": 19,
   "metadata": {
    "colab": {
     "base_uri": "https://localhost:8080/",
     "height": 465
    },
    "executionInfo": {
     "elapsed": 98,
     "status": "ok",
     "timestamp": 1746385930121,
     "user": {
      "displayName": "A B M Muntasir Rahman",
      "userId": "17712678134985094362"
     },
     "user_tz": -360
    },
    "id": "X5EMJmeEAvgd",
    "outputId": "1fb46a15-fd04-42c4-b7a2-45ef0aa2e4d9"
   },
   "outputs": [
    {
     "data": {
      "image/png": "[encoded data removed]",
      "text/plain": [
       "<Figure size 640x480 with 1 Axes>"
      ]
     },
     "metadata": {},
     "output_type": "display_data"
    },
    {
     "name": "stdout",
     "output_type": "stream",
     "text": [
      "Label:  2\n",
      "Max value:  255\n"
     ]
    }
   ],
   "source": [
    "sample_id = np.random.randint(60000)\n",
    "plt.imshow(x_train[sample_id], cmap=\"gray\")\n",
    "plt.show()\n",
    "print(\"Label: \", y_train[sample_id])\n",
    "print(\"Max value: \", np.max(x_train[sample_id]))"
   ]
  },
  {
   "cell_type": "code",
   "execution_count": 20,
   "metadata": {
    "executionInfo": {
     "elapsed": 146,
     "status": "ok",
     "timestamp": 1746385931267,
     "user": {
      "displayName": "A B M Muntasir Rahman",
      "userId": "17712678134985094362"
     },
     "user_tz": -360
    },
    "id": "nbwEYxzbAxLC"
   },
   "outputs": [],
   "source": [
    "num_classes = 10\n",
    "\n",
    "x_train = x_train / 255.0\n",
    "y_train = tf.keras.utils.to_categorical(y_train, num_classes=num_classes)\n",
    "\n",
    "x_test = x_test / 255.0\n",
    "y_test = tf.keras.utils.to_categorical(y_test, num_classes=num_classes)"
   ]
  },
  {
   "cell_type": "code",
   "execution_count": 21,
   "metadata": {
    "colab": {
     "base_uri": "https://localhost:8080/",
     "height": 465
    },
    "executionInfo": {
     "elapsed": 101,
     "status": "ok",
     "timestamp": 1746385932985,
     "user": {
      "displayName": "A B M Muntasir Rahman",
      "userId": "17712678134985094362"
     },
     "user_tz": -360
    },
    "id": "wjmvTa1HAxzC",
    "outputId": "02a6b9ee-adc9-4cfa-d4c2-a41028099353"
   },
   "outputs": [
    {
     "data": {
      "image/png": "[encoded data removed]",
      "text/plain": [
       "<Figure size 640x480 with 1 Axes>"
      ]
     },
     "metadata": {},
     "output_type": "display_data"
    },
    {
     "name": "stdout",
     "output_type": "stream",
     "text": [
      "Label:  [0. 0. 1. 0. 0. 0. 0. 0. 0. 0.]\n",
      "Max value:  1.0\n"
     ]
    }
   ],
   "source": [
    "plt.imshow(x_train[sample_id], cmap=\"gray\")\n",
    "plt.show()\n",
    "print(\"Label: \", y_train[sample_id])\n",
    "print(\"Max value: \", np.max(x_train[sample_id]))"
   ]
  },
  {
   "cell_type": "code",
   "execution_count": 22,
   "metadata": {
    "executionInfo": {
     "elapsed": 1,
     "status": "ok",
     "timestamp": 1746385933892,
     "user": {
      "displayName": "A B M Muntasir Rahman",
      "userId": "17712678134985094362"
     },
     "user_tz": -360
    },
    "id": "eI4jcx3ODWBi"
   },
   "outputs": [],
   "source": [
    "#converting 2D image to 3D volume\n",
    "\n",
    "x_train = np.expand_dims(x_train, axis=-1) # (28, 28) -> (28, 28, 1)\n",
    "x_test = np.expand_dims(x_test, axis=-1) # (28, 28) -> (28, 28, 1)"
   ]
  },
  {
   "cell_type": "code",
   "execution_count": 23,
   "metadata": {
    "colab": {
     "base_uri": "https://localhost:8080/"
    },
    "executionInfo": {
     "elapsed": 5,
     "status": "ok",
     "timestamp": 1746385934830,
     "user": {
      "displayName": "A B M Muntasir Rahman",
      "userId": "17712678134985094362"
     },
     "user_tz": -360
    },
    "id": "xSO81qybD1ox",
    "outputId": "15d63271-3206-45cb-f6f2-b6741455b834"
   },
   "outputs": [
    {
     "name": "stdout",
     "output_type": "stream",
     "text": [
      "(60000, 28, 28, 1)\n",
      "(60000, 10)\n",
      "(10000, 28, 28, 1)\n",
      "(10000, 10)\n"
     ]
    }
   ],
   "source": [
    "print(x_train.shape)\n",
    "print(y_train.shape)\n",
    "print(x_test.shape)\n",
    "print(y_test.shape)"
   ]
  },
  {
   "cell_type": "code",
   "execution_count": 24,
   "metadata": {
    "executionInfo": {
     "elapsed": 2,
     "status": "ok",
     "timestamp": 1746385936138,
     "user": {
      "displayName": "A B M Muntasir Rahman",
      "userId": "17712678134985094362"
     },
     "user_tz": -360
    },
    "id": "StMplwENA2ny"
   },
   "outputs": [],
   "source": [
    "img_rows, img_cols = 28, 28\n",
    "num_channels = 1\n",
    "input_shape = (img_rows, img_cols, num_channels)"
   ]
  },
  {
   "cell_type": "code",
   "execution_count": 25,
   "metadata": {
    "colab": {
     "base_uri": "https://localhost:8080/"
    },
    "executionInfo": {
     "elapsed": 2,
     "status": "ok",
     "timestamp": 1746385938264,
     "user": {
      "displayName": "A B M Muntasir Rahman",
      "userId": "17712678134985094362"
     },
     "user_tz": -360
    },
    "id": "WJwlSRysFRPu",
    "outputId": "08a57515-216c-4deb-c1d5-c7a7d5035c7a"
   },
   "outputs": [
    {
     "data": {
      "text/plain": [
       "3136"
      ]
     },
     "execution_count": 25,
     "metadata": {},
     "output_type": "execute_result"
    }
   ],
   "source": [
    "14*14*16"
   ]
  },
  {
   "cell_type": "code",
   "execution_count": 26,
   "metadata": {
    "colab": {
     "base_uri": "https://localhost:8080/"
    },
    "executionInfo": {
     "elapsed": 2553,
     "status": "ok",
     "timestamp": 1746386029132,
     "user": {
      "displayName": "A B M Muntasir Rahman",
      "userId": "17712678134985094362"
     },
     "user_tz": -360
    },
    "id": "DVf7eaj-Bpky",
    "outputId": "551a99ed-25be-44fc-c535-a179eefcf191"
   },
   "outputs": [],
   "source": [
    "model = tf.keras.models.Sequential()\n",
    "\n",
    "model.add(tf.keras.layers.Conv2D(16, (5, 5),\n",
    "                                 strides=(1, 1),\n",
    "                                 activation='relu',\n",
    "                                 padding='same',\n",
    "                                 input_shape=input_shape,\n",
    "                                 name=\"cse428\"))\n",
    "\n",
    "model.add(tf.keras.layers.MaxPooling2D(pool_size=(2, 2), strides=(2, 2)))\n",
    "\n",
    "model.add(tf.keras.layers.Flatten())\n",
    "#>>>>>>>>>>>> 3136\n",
    "model.add(tf.keras.layers.Dense(100, activation='relu'))\n",
    "#>>>>>>>>>>>> 313600 connections: shape here 100\n",
    "model.add(tf.keras.layers.Dense(num_classes, activation='softmax'))"
   ]
  },
  {
   "cell_type": "code",
   "execution_count": 27,
   "metadata": {
    "executionInfo": {
     "elapsed": 10,
     "status": "ok",
     "timestamp": 1746386029141,
     "user": {
      "displayName": "A B M Muntasir Rahman",
      "userId": "17712678134985094362"
     },
     "user_tz": -360
    },
    "id": "fRlmpob7DA3L"
   },
   "outputs": [],
   "source": [
    "model.compile(optimizer='sgd',\n",
    "              loss='categorical_crossentropy',\n",
    "              metrics=['accuracy'])"
   ]
  },
  {
   "cell_type": "code",
   "execution_count": 28,
   "metadata": {
    "colab": {
     "base_uri": "https://localhost:8080/"
    },
    "executionInfo": {
     "elapsed": 64612,
     "status": "ok",
     "timestamp": 1746386094294,
     "user": {
      "displayName": "A B M Muntasir Rahman",
      "userId": "17712678134985094362"
     },
     "user_tz": -360
    },
    "id": "YEATr8lmDNB8",
    "outputId": "3bf9cb32-dfcc-4c27-fcdb-7cd894a0b523"
   },
   "outputs": [
    {
     "name": "stdout",
     "output_type": "stream",
     "text": [
      "Epoch 1/10\n",
      "\u001b[1m1875/1875\u001b[0m \u001b[32m━━━━━━━━━━━━━━━━━━━━\u001b[0m\u001b[37m\u001b[0m \u001b[1m6s\u001b[0m 3ms/step - accuracy: 0.7655 - loss: 0.8202 - val_accuracy: 0.9279 - val_loss: 0.2416\n",
      "Epoch 2/10\n",
      "\u001b[1m1875/1875\u001b[0m \u001b[32m━━━━━━━━━━━━━━━━━━━━\u001b[0m\u001b[37m\u001b[0m \u001b[1m6s\u001b[0m 3ms/step - accuracy: 0.9330 - loss: 0.2267 - val_accuracy: 0.9424 - val_loss: 0.1861\n",
      "Epoch 3/10\n",
      "\u001b[1m1875/1875\u001b[0m \u001b[32m━━━━━━━━━━━━━━━━━━━━\u001b[0m\u001b[37m\u001b[0m \u001b[1m6s\u001b[0m 3ms/step - accuracy: 0.9495 - loss: 0.1692 - val_accuracy: 0.9576 - val_loss: 0.1347\n",
      "Epoch 4/10\n",
      "\u001b[1m1875/1875\u001b[0m \u001b[32m━━━━━━━━━━━━━━━━━━━━\u001b[0m\u001b[37m\u001b[0m \u001b[1m6s\u001b[0m 3ms/step - accuracy: 0.9586 - loss: 0.1381 - val_accuracy: 0.9660 - val_loss: 0.1084\n",
      "Epoch 5/10\n",
      "\u001b[1m1875/1875\u001b[0m \u001b[32m━━━━━━━━━━━━━━━━━━━━\u001b[0m\u001b[37m\u001b[0m \u001b[1m6s\u001b[0m 3ms/step - accuracy: 0.9648 - loss: 0.1143 - val_accuracy: 0.9701 - val_loss: 0.0969\n",
      "Epoch 6/10\n",
      "\u001b[1m1875/1875\u001b[0m \u001b[32m━━━━━━━━━━━━━━━━━━━━\u001b[0m\u001b[37m\u001b[0m \u001b[1m5s\u001b[0m 3ms/step - accuracy: 0.9699 - loss: 0.1004 - val_accuracy: 0.9725 - val_loss: 0.0866\n",
      "Epoch 7/10\n",
      "\u001b[1m1875/1875\u001b[0m \u001b[32m━━━━━━━━━━━━━━━━━━━━\u001b[0m\u001b[37m\u001b[0m \u001b[1m5s\u001b[0m 3ms/step - accuracy: 0.9741 - loss: 0.0854 - val_accuracy: 0.9747 - val_loss: 0.0801\n",
      "Epoch 8/10\n",
      "\u001b[1m1875/1875\u001b[0m \u001b[32m━━━━━━━━━━━━━━━━━━━━\u001b[0m\u001b[37m\u001b[0m \u001b[1m6s\u001b[0m 3ms/step - accuracy: 0.9759 - loss: 0.0791 - val_accuracy: 0.9750 - val_loss: 0.0802\n",
      "Epoch 9/10\n",
      "\u001b[1m1875/1875\u001b[0m \u001b[32m━━━━━━━━━━━━━━━━━━━━\u001b[0m\u001b[37m\u001b[0m \u001b[1m5s\u001b[0m 3ms/step - accuracy: 0.9783 - loss: 0.0711 - val_accuracy: 0.9741 - val_loss: 0.0787\n",
      "Epoch 10/10\n",
      "\u001b[1m1875/1875\u001b[0m \u001b[32m━━━━━━━━━━━━━━━━━━━━\u001b[0m\u001b[37m\u001b[0m \u001b[1m5s\u001b[0m 3ms/step - accuracy: 0.9811 - loss: 0.0628 - val_accuracy: 0.9787 - val_loss: 0.0680\n"
     ]
    },
    {
     "data": {
      "text/plain": [
       "<keras.src.callbacks.history.History at 0x323760ef0>"
      ]
     },
     "execution_count": 28,
     "metadata": {},
     "output_type": "execute_result"
    }
   ],
   "source": [
    "model.fit(x_train, y_train, epochs=10, verbose=1, validation_data=(x_test, y_test))"
   ]
  },
  {
   "cell_type": "code",
   "execution_count": 29,
   "metadata": {
    "colab": {
     "base_uri": "https://localhost:8080/"
    },
    "executionInfo": {
     "elapsed": 9,
     "status": "ok",
     "timestamp": 1734948647056,
     "user": {
      "displayName": "A B M Muntasir Rahman",
      "userId": "17712678134985094362"
     },
     "user_tz": -360
    },
    "id": "aw2Mnd2TE7Hx",
    "outputId": "f5b38b43-459e-4feb-c10e-7a0dec72c1ce"
   },
   "outputs": [
    {
     "name": "stdout",
     "output_type": "stream",
     "text": [
      "You must install pydot (`pip install pydot`) for `plot_model` to work.\n"
     ]
    }
   ],
   "source": [
    "tf.keras.utils.plot_model(model, show_shapes=True, show_dtype=True, show_layer_names=True)"
   ]
  },
  {
   "cell_type": "code",
   "execution_count": null,
   "metadata": {
    "id": "adKR_taxDPHl"
   },
   "outputs": [],
   "source": []
  }
 ],
 "metadata": {
  "accelerator": "GPU",
  "colab": {
   "provenance": []
  },
  "kernelspec": {
   "display_name": "py312",
   "language": "python",
   "name": "python3"
  },
  "language_info": {
   "codemirror_mode": {
    "name": "ipython",
    "version": 3
   },
   "file_extension": ".py",
   "mimetype": "text/x-python",
   "name": "python",
   "nbconvert_exporter": "python",
   "pygments_lexer": "ipython3",
   "version": "3.12.9"
  }
 },
 "nbformat": 4,
 "nbformat_minor": 0
}
